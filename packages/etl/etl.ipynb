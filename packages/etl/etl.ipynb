{
 "cells": [
  {
   "cell_type": "markdown",
   "source": [
    "# ETL-пайплайн\n",
    "В прототипе ETL-скрипты запускаются вручную: через Jupyter Notebook или Python-скрипт\n",
    "напрямую из консоли.\n",
    "Подразумевается, что в боевой системе ETL-скрипты будут запускаться автоматически по\n",
    "расписанию системой типа Airflow / Prefect или любой другой schedule-системой."
   ],
   "metadata": {
    "collapsed": false
   }
  },
  {
   "cell_type": "code",
   "execution_count": null,
   "outputs": [],
   "source": [
    "from tools import *\n",
    "\n",
    "logging.getLogger().setLevel('INFO')"
   ],
   "metadata": {
    "collapsed": false,
    "pycharm": {
     "name": "#%%\n"
    }
   }
  },
  {
   "cell_type": "markdown",
   "source": [
    "## Загрузка сырых данных\n",
    "Функции парсят входные файлы и директории - координаты станций, данные станций и профилемера - структурируют их и загружают в схему raw базы данных.\n",
    "Пути к файлам указаны в константах в config.py"
   ],
   "metadata": {
    "collapsed": false
   }
  },
  {
   "cell_type": "code",
   "execution_count": null,
   "outputs": [],
   "source": [
    "upload_coordinates(PATH_STATION_COORDINATES)  # координаты станций и их названия\n",
    "upload_station_metrics(PATH_STATION_METRICS)  # замеры станций\n",
    "upload_profile(PATH_PROFILE)  # данные профилемера"
   ],
   "metadata": {
    "collapsed": false,
    "pycharm": {
     "name": "#%%\n"
    }
   }
  },
  {
   "cell_type": "markdown",
   "source": [
    "## Обработка входных данных\n",
    "Функции сопоставляют названиям файлов названия станций, проставляют уникальные идентификаторы."
   ],
   "metadata": {
    "collapsed": false
   }
  },
  {
   "cell_type": "code",
   "execution_count": null,
   "outputs": [],
   "source": [
    "update_prod_station()  # обновляется справочник станций в production-схеме\n",
    "update_filtered_metrics()  # замерам станций проставляются идетификаторы станций\n",
    "update_filtered_profile()  # данным профилемера проставляется идентификатор станции"
   ],
   "metadata": {
    "collapsed": false,
    "pycharm": {
     "name": "#%%\n"
    }
   }
  },
  {
   "cell_type": "markdown",
   "source": [
    "## Определение аномалий\n",
    "Согласно конфигурации ALERT_CONFIG в config.py функция находит в указанном окне дат аномалии:\n",
    "* Некорректные значения (нулевые/отрицательные)\n",
    "* Значения в верхних/нижних перцентилях\n",
    "ALERT_CONFIG - конфигурация, указывающая, что считать аномалиями для каких показателей"
   ],
   "metadata": {
    "collapsed": false
   }
  },
  {
   "cell_type": "code",
   "execution_count": null,
   "outputs": [],
   "source": [
    "define_anomaly(datetime(2020, 11, 1), datetime(2020, 11, 15))"
   ],
   "metadata": {
    "collapsed": false,
    "pycharm": {
     "name": "#%%\n"
    }
   }
  },
  {
   "cell_type": "markdown",
   "source": [
    "## Получить предсказания\n",
    "Для каждой метрики для каждой станции возвращает предсказываемые значения на сутки вперёд"
   ],
   "metadata": {
    "collapsed": false
   }
  },
  {
   "cell_type": "code",
   "execution_count": null,
   "outputs": [],
   "source": [
    "for metric_name in ['CO', 'NO', 'NO2', 'PM2.5', 'PM10']:\n",
    "    get_predictions(metric_name)"
   ],
   "metadata": {
    "collapsed": false,
    "pycharm": {
     "name": "#%%\n"
    }
   }
  },
  {
   "cell_type": "markdown",
   "source": [
    "## Обновить продакшн\n",
    "Формирует из предсказаний и реальных замеров витрину для бекенда в схеме production"
   ],
   "metadata": {
    "collapsed": false
   }
  },
  {
   "cell_type": "code",
   "execution_count": null,
   "outputs": [],
   "source": [
    "update_prod()"
   ],
   "metadata": {
    "collapsed": false,
    "pycharm": {
     "name": "#%%\n"
    }
   }
  }
 ],
 "metadata": {
  "kernelspec": {
   "display_name": "Python 3",
   "language": "python",
   "name": "python3"
  },
  "language_info": {
   "codemirror_mode": {
    "name": "ipython",
    "version": 2
   },
   "file_extension": ".py",
   "mimetype": "text/x-python",
   "name": "python",
   "nbconvert_exporter": "python",
   "pygments_lexer": "ipython2",
   "version": "2.7.6"
  }
 },
 "nbformat": 4,
 "nbformat_minor": 0
}